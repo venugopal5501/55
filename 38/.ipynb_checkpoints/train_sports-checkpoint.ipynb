{
 "cells": [
  {
   "cell_type": "code",
   "execution_count": 1,
   "id": "6ced99cb-5e2c-435f-9a98-b4bf4a93e05e",
   "metadata": {},
   "outputs": [],
   "source": [
    "import os\n",
    "import cv2\n",
    "import numpy as np\n",
    "from imutils import paths\n",
    "from PIL import Image"
   ]
  },
  {
   "cell_type": "code",
   "execution_count": 2,
   "id": "6bda313c-5f28-4b8d-a638-f42bede845eb",
   "metadata": {},
   "outputs": [],
   "source": [
    "from sklearn.preprocessing import LabelBinarizer"
   ]
  },
  {
   "cell_type": "code",
   "execution_count": 3,
   "id": "1021c550-0ce3-431f-9b1f-3d65a954fcfe",
   "metadata": {},
   "outputs": [],
   "source": [
    "from sklearn.model_selection import train_test_split"
   ]
  },
  {
   "cell_type": "code",
   "execution_count": 4,
   "id": "e9f0b65e-c594-4931-a53c-1f6f2eee92b1",
   "metadata": {},
   "outputs": [],
   "source": [
    "from tensorflow.keras.preprocessing.image import ImageDataGenerator"
   ]
  },
  {
   "cell_type": "code",
   "execution_count": 5,
   "id": "d942dfe8-6d1e-4522-80d0-43da897e4fa0",
   "metadata": {},
   "outputs": [],
   "source": [
    "datapath = r\"C:\\Users\\venug\\Downloads\\Sports-Type-Classifier\\data\"\n",
    "outputmodel = r\"C:\\Users\\venug\\Downloads\\Sports-Type-Classifier\\Video_Classification_Model\\VideoClassificationModel\"\n",
    "outputlabelbinarizer = r\"C:\\Users\\venug\\OneDrive\\Pictures\\Sports-Type-Classifier\\Video_Classification_Model\\videoclassificationbinarizer\"\n",
    "epoch=25"
   ]
  },
  {
   "cell_type": "code",
   "execution_count": null,
   "id": "c0e07068-7c1e-4c11-914f-827a70700e4f",
   "metadata": {},
   "outputs": [],
   "source": [
    "Sports_Labels= set(['badminton','chess','football'])\n",
    "print(\"image being loaded\")\n",
    "pathToImages = list(paths.list_images(datapath))\n",
    "data=[]\n",
    "labels=[]\n",
    "for images in pathToImages:\n",
    "    label = images.split(os.path.sep)[-2]\n",
    "    if label not in Sports_Labels:\n",
    "        continue\n",
    "    image = cv2.imread(images)\n",
    "    image = cv2.cvtColor(image, cv2.COLOR_BGR2RGB)\n",
    "    image = cv2.resize(image,(224,224))\n",
    "    data.append(image)\n",
    "    labels.append(label)\n",
    "data = np.array(data)\n",
    "labels = np.array(labels)"
   ]
  },
  {
   "cell_type": "code",
   "execution_count": null,
   "id": "6bdc330f-d9fd-4ffc-9f36-4cc8aa53b951",
   "metadata": {},
   "outputs": [],
   "source": [
    "data = np.array(data)\n",
    "labels = np.array(labels)\n",
    "lb = LabelBinarizer()\n",
    "labels = lb.fit_transform(labels)"
   ]
  },
  {
   "cell_type": "code",
   "execution_count": 8,
   "id": "5d9e44da-930a-4824-9d0f-379bafa423ad",
   "metadata": {},
   "outputs": [],
   "source": [
    "(X_train, X_test, Y_train, Y_test) = train_test_split(data, labels, test_size=0.25, stratify=labels, random_state=42)"
   ]
  },
  {
   "cell_type": "code",
   "execution_count": 9,
   "id": "8dd40f06-c7f7-42ae-a5b3-7b2959c4d0c3",
   "metadata": {},
   "outputs": [],
   "source": [
    "traininAugmentation = ImageDataGenerator(\n",
    "    rotation_range=30,\n",
    "    zoom_range=0.15,\n",
    "    width_shift_range=0.2,\n",
    "    height_shift_range=0.2,\n",
    "    shear_range=0.15,  # Corrected typo: Changed 'O' to '0'\n",
    "    horizontal_flip=True,\n",
    "    fill_mode='nearest'  # Corrected typo: Replaced '-' with '='\n",
    ")\n",
    "validationAugmentation = ImageDataGenerator()\n",
    "\n",
    "mean = np.array([123.68, 116.779, 103.939],dtype=\"float32\") # Corrected syntax: Square brackets for array elements\n",
    "traininAugmentation.mean = mean\n",
    "validationAugmentation.mean = mean  # Corrected typo: Replaced 'traininAugmentation' with 'trainingAugmentation'"
   ]
  },
  {
   "cell_type": "code",
   "execution_count": 10,
   "id": "c26eb57b-018e-4b56-9455-b897d4bd3559",
   "metadata": {},
   "outputs": [],
   "source": [
    "from tensorflow.keras.applications import ResNet50\n",
    "from keras.layers import Input\n",
    "from tensorflow.keras.layers import AveragePooling2D, Flatten, Dense, Dropout\n",
    "from keras.models import Model\n",
    "from tensorflow.keras.layers import AveragePooling2D"
   ]
  },
  {
   "cell_type": "code",
   "execution_count": 11,
   "id": "5b26af13-c3ef-4e33-941b-182084ee244a",
   "metadata": {},
   "outputs": [],
   "source": [
    "from sklearn.preprocessing import LabelBinarizer\n",
    "from tensorflow.keras.applications.resnet50 import ResNet50\n",
    "from tensorflow.keras.layers import Dense, Dropout, AveragePooling2D, Flatten\n",
    "from tensorflow.keras.models import Model\n",
    "from tensorflow.keras.layers import Input\n",
    "\n",
    "baseModel = ResNet50(weights=\"imagenet\", include_top=False, input_tensor=Input(shape=(224, 224, 3)))\n",
    "\n",
    "# Define the head model\n",
    "headModel = baseModel.output\n",
    "headModel = AveragePooling2D(pool_size=(7, 7))(headModel)\n",
    "headModel = Flatten(name=\"flatten\")(headModel)\n",
    "headModel = Dense(512, activation=\"relu\")(headModel)\n",
    "headModel = Dropout(0.5)(headModel)\n",
    "headModel = Dense(len(lb.classes_), activation=\"softmax\")(headModel)\n",
    "\n",
    "\n",
    "# Define the full model\n",
    "model = Model(inputs=baseModel.input, outputs=headModel)\n",
    "\n",
    "# Freeze the base model layers\n",
    "for basemodelLayers in baseModel.layers:\n",
    "    basemodelLayers.trainable = False"
   ]
  },
  {
   "cell_type": "code",
   "execution_count": 12,
   "id": "c046dbc5-e942-490b-85cf-bef0fe9ef48e",
   "metadata": {},
   "outputs": [],
   "source": [
    "from keras.optimizers import SGD"
   ]
  },
  {
   "cell_type": "code",
   "execution_count": 13,
   "id": "d87e7115-1dbd-4df5-a784-c7f93d24294f",
   "metadata": {},
   "outputs": [],
   "source": [
    "import tensorflow as tf\n",
    "from tensorflow.keras.optimizers import SGD\n",
    "from tensorflow.keras.optimizers.schedules import ExponentialDecay\n",
    "\n",
    "epoch = 25\n",
    "learning_rate = 0.0001\n",
    "momentum = 0.9\n",
    "\n",
    "# Define the learning rate schedule\n",
    "lr_schedule = ExponentialDecay(\n",
    "    initial_learning_rate=learning_rate,\n",
    "    decay_steps=10000, # This should be adjusted based on your training data size\n",
    "    decay_rate=0.9 # Adjust the decay rate as needed\n",
    ")\n",
    "\n",
    "# Create the optimizer with the learning rate schedule\n",
    "opt = SGD(learning_rate=0.0001, momentum=0.9)\n",
    "\n"
   ]
  },
  {
   "cell_type": "code",
   "execution_count": 14,
   "id": "51466cd7-b06d-4ae6-ac0b-04127ac4b676",
   "metadata": {},
   "outputs": [],
   "source": [
    "model.compile(loss=\"categorical_crossentropy\", optimizer=opt, metrics=[\"accuracy\"])"
   ]
  },
  {
   "cell_type": "code",
   "execution_count": null,
   "id": "4e57a3d2-3c18-4e55-8f8f-e3847309fe93",
   "metadata": {},
   "outputs": [],
   "source": [
    "import os\n",
    "import cv2\n",
    "import numpy as np\n",
    "from tensorflow.keras.preprocessing.image import ImageDataGenerator\n",
    "from tensorflow.keras.applications.resnet50 import ResNet50, preprocess_input\n",
    "from tensorflow.keras.layers import Dense, Dropout, AveragePooling2D, Flatten\n",
    "from tensorflow.keras.models import Model\n",
    "from tensorflow.keras.optimizers import Adam\n",
    "\n",
    "# Define your data generators\n",
    "train_datagen = ImageDataGenerator(\n",
    "    preprocessing_function=preprocess_input, # Use preprocess_input for ResNet50\n",
    "    shear_range=0.2,\n",
    "    zoom_range=0.2,\n",
    "    horizontal_flip=True\n",
    ")\n",
    "\n",
    "test_datagen = ImageDataGenerator(\n",
    "    preprocessing_function=preprocess_input # Use preprocess_input for ResNet50\n",
    ")\n",
    "\n",
    "# Use the datapath variable for flow_from_directory\n",
    "train_generator = train_datagen.flow_from_directory(\n",
    "    datapath,\n",
    "    target_size=(224, 224),\n",
    "    batch_size=32,\n",
    "    class_mode='sparse'\n",
    ")\n",
    "\n",
    "# Load the ResNet50 model with pre-trained weights\n",
    "base_model = ResNet50(weights='imagenet', include_top=False, input_shape=(224, 224, 3))\n",
    "\n",
    "# Freeze the base model layers\n",
    "for layer in base_model.layers:\n",
    "    layer.trainable = False\n",
    "\n",
    "# Add custom layers\n",
    "x = base_model.output\n",
    "x = AveragePooling2D(pool_size=(7, 7))(x)\n",
    "x = Flatten()(x)\n",
    "x = Dense(512, activation='relu')(x)\n",
    "x = Dropout(0.5)(x)\n",
    "predictions = Dense(24, activation='softmax')(x)\n",
    "\n",
    "model = Model(inputs=base_model.input, outputs=predictions)\n",
    "\n",
    "model.compile(optimizer=Adam(learning_rate=0.0001), loss='sparse_categorical_crossentropy', metrics=['accuracy'])\n",
    "\n",
    "epochs = 1\n",
    "model.fit(\n",
    "    train_generator,\n",
    "    steps_per_epoch=len(train_generator),\n",
    "    epochs=epochs\n",
    ")"
   ]
  },
  {
   "cell_type": "code",
   "execution_count": null,
   "id": "5c4dc46b",
   "metadata": {},
   "outputs": [],
   "source": [
    "import pickle"
   ]
  },
  {
   "cell_type": "code",
   "execution_count": null,
   "id": "bb6c12e5-d886-4f16-98fc-5384e6aca953",
   "metadata": {},
   "outputs": [],
   "source": [
    "# version 1:(checked)\n",
    "\n",
    "model.save('VideoClassificationModel.keras')\n",
    "\n",
    "# Assuming 'lb' is your label binarizer\n",
    "# Save the label binarizer\n",
    "lbinarizer = open(r\"C:\\Users\\venug\\OneDrive\\Pictures\\Sports-Type-Classifier\\Video_Classification_Model\\videoclassificationbinarizer.pickle\", \"wb\")\n",
    "lbinarizer.write(pickle.dumps(lb))\n",
    "lbinarizer.close()"
   ]
  },
  {
   "cell_type": "code",
   "execution_count": null,
   "id": "d0cdafde-711b-417f-a7ae-c8fb5181ae13",
   "metadata": {},
   "outputs": [],
   "source": []
  },
  {
   "cell_type": "code",
   "execution_count": null,
   "id": "c2250fb4-94f4-4dff-adaf-e6907a46b91f",
   "metadata": {},
   "outputs": [],
   "source": []
  }
 ],
 "metadata": {
  "kernelspec": {
   "display_name": "Python 3 (ipykernel)",
   "language": "python",
   "name": "python3"
  },
  "language_info": {
   "codemirror_mode": {
    "name": "ipython",
    "version": 3
   },
   "file_extension": ".py",
   "mimetype": "text/x-python",
   "name": "python",
   "nbconvert_exporter": "python",
   "pygments_lexer": "ipython3",
   "version": "3.11.7"
  }
 },
 "nbformat": 4,
 "nbformat_minor": 5
}
